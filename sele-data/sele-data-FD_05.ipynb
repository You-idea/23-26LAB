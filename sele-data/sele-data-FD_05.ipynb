{
 "cells": [
  {
   "cell_type": "markdown",
   "metadata": {},
   "source": [
    "计算.tsv文件中某一列的数值大于0.5所占的比值\n",
    "mean_value = last_column.mean()# 会自己删除0，使平均数有点不准"
   ]
  },
  {
   "cell_type": "code",
   "execution_count": null,
   "metadata": {},
   "outputs": [],
   "source": [
    "import pandas as pd\n",
    "df = pd.read_csv('motion.tsv',header=None)\n",
    "\n",
    "last_column = df.iloc[:, -1]\n",
    "last_column = pd.to_numeric(last_column, errors='coerce')\n",
    "\n",
    "max_value = last_column.max()\n",
    "mean_value = last_column.mean()\n",
    "proportion_0.5 = (last_column > 0.5).mean()\n",
    "proportion_0.4 = (last_column > 0.4).mean()\n",
    "q3 = last_column.quantile(0.75)\n",
    "nan_count = last_column.isna().sum()\n",
    "print(f\"NaN 值的个数是: {nan_count}\")\n",
    "print(f\"大于 0.5 的值所占的比例是: {proportion:.2f}\")"
   ]
  },
  {
   "cell_type": "markdown",
   "metadata": {},
   "source": [
    "遍寻文件夹"
   ]
  },
  {
   "cell_type": "code",
   "execution_count": null,
   "metadata": {},
   "outputs": [],
   "source": [
    "import os\n",
    "import glob\n",
    "folder_a_path = \"G:/*\" \n",
    "matching_folders = glob.glob(folder_a_path)\n",
    "for folder in matching_folders:\n",
    "    for item in os.listdir(folder):\n",
    "        xcpd_path = os.path.join(folder, item, 'xcpd', 'xcp_d')\n",
    "        print(xcpd_path)\n",
    "        for subfolder in os.listdir(xcpd_path):\n",
    "            subfolder_path = os.path.join(xcpd_path, subfolder)\n",
    "            print(subfolder)\n",
    "            if os.path.isdir(subfolder_path)and subfolder.startswith('sub-'):\n",
    "                print(subfolder_path)\n",
    "                func_path = os.path.join(subfolder_path, 'func', f'{subfolder}_task-rest_run-1_motion.tsv')\n",
    "                print(func_path)\n",
    "                if os.path.exists(func_path):\n",
    "                    print(f\"找到文件: {func_path}\")"
   ]
  },
  {
   "cell_type": "markdown",
   "metadata": {},
   "source": [
    "组合代码"
   ]
  },
  {
   "cell_type": "code",
   "execution_count": null,
   "metadata": {},
   "outputs": [],
   "source": [
    "import os\n",
    "import glob\n",
    "import pandas as pd\n",
    "folder_a_path = \"G:/*\" \n",
    "matching_folders = glob.glob(folder_a_path) \n",
    "output_txt_path = \"/14_results_rest_run1.txt\" \n",
    "print(matching_folders)\n",
    "\n",
    "results = []\n",
    "for folder in matching_folders:\n",
    "    for item in os.listdir(folder):\n",
    "        xcpd_path = os.path.join(folder, item, 'results','xcpd', 'xcp_d')\n",
    "        print(xcpd_path)\n",
    "        for subfolder in os.listdir(xcpd_path):\n",
    "            subfolder_path = os.path.join(xcpd_path, subfolder)\n",
    "            if os.path.isdir(subfolder_path)and subfolder.startswith('sub-'):\n",
    "                func_path = os.path.join(subfolder_path, 'func', f'{subfolder}_task-rest_run-1_motion.tsv')\n",
    "                if os.path.exists(func_path):\n",
    "                    print(f\"找到文件: {func_path}\")\n",
    "                    df = pd.read_csv(func_path, delimiter='\\t', skiprows=1)\n",
    "                    last_column = df.iloc[:, -1]\n",
    "                    last_column = pd.to_numeric(last_column, errors='coerce')\n",
    "                    nan_count = last_column.isna().sum()\n",
    "                    max_value = last_column.max()\n",
    "                    mean_value = last_column.mean()\n",
    "                    variance_value = last_column.var()\n",
    "                    proportion_5 = (last_column > 0.5).mean()\n",
    "                    proportion_4 = (last_column > 0.4).mean()\n",
    "                    proportion_24 = (last_column > 0.24).mean()\n",
    "                    q3 = last_column.quantile(0.75)\n",
    "                    result = {\n",
    "                        'func_path': func_path,\n",
    "                        'subfolder': subfolder,\n",
    "                        'nan_count': nan_count,\n",
    "                        'mean_value': mean_value,\n",
    "                        'variance_value': variance_value,\n",
    "                        'max_value': max_value,\n",
    "                        'q3': q3,\n",
    "                        'proportion_4': proportion_4,\n",
    "                        'proportion_24': proportion_24,\n",
    "                        'proportion_5': proportion_5\n",
    "                    }\n",
    "                    results.append(result)\n",
    "\n",
    "with open(output_txt_path, 'w') as file:\n",
    "    for result in results:\n",
    "        line = f\"{result['func_path']}, {result['subfolder']}, {result['nan_count']},{result['mean_value']},{result['variance_value']},{result['max_value']},{result['q3']},{result['proportion_24']}, {result['proportion_4']}, {result['proportion_5']:.4f}\\n\"\n",
    "        file.write(line)\n",
    "print(\"结果已保存到 output_txt_path 文件中。\")"
   ]
  }
 ],
 "metadata": {
  "kernelspec": {
   "display_name": "Python 3",
   "language": "python",
   "name": "python3"
  },
  "language_info": {
   "codemirror_mode": {
    "name": "ipython",
    "version": 3
   },
   "file_extension": ".py",
   "mimetype": "text/x-python",
   "name": "python",
   "nbconvert_exporter": "python",
   "pygments_lexer": "ipython3",
   "version": "3.6.5"
  }
 },
 "nbformat": 4,
 "nbformat_minor": 2
}
