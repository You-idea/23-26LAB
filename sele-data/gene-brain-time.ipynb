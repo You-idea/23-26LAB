{
 "cells": [
  {
   "cell_type": "markdown",
   "metadata": {},
   "source": [
    "从时空分析的结果中挑选非重复的基因，同时计算个数。"
   ]
  },
  {
   "cell_type": "code",
   "execution_count": null,
   "metadata": {},
   "outputs": [],
   "source": [
    "time_gene_dict = {}\n",
    "brain_gene_dict = {}\n",
    "all_genes = set()\n",
    "\n",
    "with open('E:/personal/Documents/基因/150.txt', 'r') as file:\n",
    "    for line in file:\n",
    "\n",
    "        line = line.strip()\n",
    "        line = line.replace('聽', ' ').replace('：', ':') \n",
    "        print(line)\n",
    "        brain_time_part, gene_part = line.split(' : ')\n",
    "        brain, time = brain_time_part.split('.', 1)\n",
    "        \n",
    "        genes = gene_part.split(', ')\n",
    "        genes = {gene for gene in genes if gene.lower() != \"none\"} \n",
    "        unique_genes = set(genes)\n",
    "        for gene in genes:\n",
    "            gene = gene.strip().lower()\n",
    "            all_genes.add(gene)\n",
    "\n",
    "        if time not in time_gene_dict:\n",
    "            time_gene_dict[time] = set()\n",
    "\n",
    "        time_gene_dict[time].update(unique_genes)\n",
    "        \n",
    "        if brain not in brain_gene_dict:\n",
    "            brain_gene_dict[brain] = set()\n",
    "\n",
    "        brain_gene_dict[brain].update(unique_genes)\n",
    "\n",
    "print('-' * 50)\n",
    "print(f\"Total unique genes in the file: {len(all_genes)}\")\n",
    "print('-' * 50)\n",
    "for time, genes in time_gene_dict.items():\n",
    "    print(f\"time = {time}\")\n",
    "    print(f\"  Unique genes: {', '.join(genes)}\")\n",
    "    print(f\"  Number of unique genes: {len(genes)}\")\n",
    "    print('-' * 50)\n",
    "for brain, genes in brain_gene_dict.items():\n",
    "    print(f\"brain = {brain}\")\n",
    "    print(f\"  Unique genes: {', '.join(genes)}\")\n",
    "    print(f\"  Number of unique genes: {len(genes)}\")\n",
    "    print('-' * 50)"
   ]
  },
  {
   "cell_type": "code",
   "execution_count": null,
   "metadata": {},
   "outputs": [],
   "source": []
  }
 ],
 "metadata": {
  "kernelspec": {
   "display_name": "Python 3",
   "language": "python",
   "name": "python3"
  },
  "language_info": {
   "codemirror_mode": {
    "name": "ipython",
    "version": 3
   },
   "file_extension": ".py",
   "mimetype": "text/x-python",
   "name": "python",
   "nbconvert_exporter": "python",
   "pygments_lexer": "ipython3",
   "version": "3.6.5"
  }
 },
 "nbformat": 4,
 "nbformat_minor": 2
}
