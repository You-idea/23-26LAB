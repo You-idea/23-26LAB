{
 "cells": [
  {
   "cell_type": "markdown",
   "metadata": {},
   "source": [
    "复制指定路径下的BOLD进指定文件夹中"
   ]
  },
  {
   "cell_type": "code",
   "execution_count": null,
   "metadata": {},
   "outputs": [],
   "source": [
    "import os\n",
    "import shutil\n",
    "import glob\n",
    "\n",
    "source_path = \"results/xcpd/xcp_d/\"\n",
    "destination_path = \"nosmooth/\"\n",
    "\n",
    "if not os.path.exists(destination_path):\n",
    "    os.makedirs(destination_path)\n",
    "\n",
    "for root, dirs, files in os.walk(source_path):\n",
    "    for folder in dirs:\n",
    "        target_folder_path = os.path.join(root, folder, \"func\")\n",
    "        if os.path.exists(target_folder_path):\n",
    "            files_to_copy = glob.glob(os.path.join(target_folder_path, \"*denoised_bold.nii.gz\"))\n",
    "            for file_path in files_to_copy:\n",
    "                file_name = os.path.basename(file_path)\n",
    "                dst_file_path = os.path.join(destination_path, file_name)\n",
    "                shutil.copy(file_path, dst_file_path)\n",
    "                print(f\"Copied: {file_path} -> {dst_file_path}\")"
   ]
  },
  {
   "cell_type": "code",
   "execution_count": null,
   "metadata": {},
   "outputs": [],
   "source": []
  }
 ],
 "metadata": {
  "kernelspec": {
   "display_name": "Python 3",
   "language": "python",
   "name": "python3"
  },
  "language_info": {
   "codemirror_mode": {
    "name": "ipython",
    "version": 3
   },
   "file_extension": ".py",
   "mimetype": "text/x-python",
   "name": "python",
   "nbconvert_exporter": "python",
   "pygments_lexer": "ipython3",
   "version": "3.6.5"
  }
 },
 "nbformat": 4,
 "nbformat_minor": 2
}
