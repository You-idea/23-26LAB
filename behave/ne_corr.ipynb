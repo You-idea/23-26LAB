{
 "cells": [
  {
   "cell_type": "code",
   "execution_count": null,
   "metadata": {},
   "outputs": [],
   "source": [
    "###消极心理病理学的计算；频繁求相关。\n",
    "import numpy as np\n",
    "import pandas as pd\n",
    "from scipy.stats import pearsonr\n",
    "\n",
    "file_path = '/消极心理病理学/ne_total_2_整理版_py_1.xlsx'\n",
    "df = pd.read_excel(file_path)\n",
    "\n",
    "columns = df.columns\n",
    "print(columns)\n",
    "\n",
    "for col in df.columns:\n",
    "    df[col] = df[col].apply(lambda x: np.nan if (isinstance(x, str) or x > 1000) else x)\n",
    "a_column = df['GPT-总分']\n",
    "results = []\n"
   ]
  },
  {
   "cell_type": "code",
   "execution_count": null,
   "metadata": {},
   "outputs": [],
   "source": [
    "for col in columns:\n",
    "    if col != 'GPT-总分': \n",
    "        filtered_df = df[['GPT-总分', col]].dropna(subset=['GPT-总分', col])\n",
    "        a_filtered = filtered_df['GPT-总分']\n",
    "        col_filtered = filtered_df[col]\n",
    "        r_value, p_value = pearsonr(a_filtered, col_filtered)\n",
    "        results.append({\n",
    "            'Column': col,\n",
    "            'r_value': r_value,\n",
    "            'p_value': p_value,\n",
    "            'n': len(a_filtered)\n",
    "        })\n",
    "\n",
    "results_df = pd.DataFrame(results)\n",
    "print(results_df)\n"
   ]
  },
  {
   "cell_type": "code",
   "execution_count": 4,
   "metadata": {},
   "outputs": [],
   "source": [
    "# 可选择将结果保存为新的Excel文件\n",
    "results_df.to_excel('消极心理病理学/correlation_results.xlsx', index=False)"
   ]
  }
 ],
 "metadata": {
  "kernelspec": {
   "display_name": "Python 3",
   "language": "python",
   "name": "python3"
  },
  "language_info": {
   "codemirror_mode": {
    "name": "ipython",
    "version": 3
   },
   "file_extension": ".py",
   "mimetype": "text/x-python",
   "name": "python",
   "nbconvert_exporter": "python",
   "pygments_lexer": "ipython3",
   "version": "3.6.5"
  }
 },
 "nbformat": 4,
 "nbformat_minor": 2
}
