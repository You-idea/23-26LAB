{
 "cells": [
  {
   "cell_type": "markdown",
   "metadata": {},
   "source": [
    "消极心理病理学，整理问卷的数据"
   ]
  },
  {
   "cell_type": "code",
   "execution_count": null,
   "metadata": {},
   "outputs": [],
   "source": [
    "import pandas as pd\n",
    "import numpy as np\n",
    "import re\n",
    "A = pd.read_excel('/消极心理病理学/消极心理学-目录.xlsx', index_col=0, header=0)\n",
    "print(A.shape)\n",
    "print(A.index)\n",
    "print(A.columns)\n",
    "B = pd.read_excel('/消极心理病理学/ne_total_2_整理版.xlsx', index_col=0, header=0)\n",
    "B.columns = [re.sub(r'\\.\\d+$', '', col) for col in B.columns]\n",
    "print(B.shape)\n",
    "print(B.index)\n",
    "print(B.columns)"
   ]
  },
  {
   "cell_type": "code",
   "execution_count": null,
   "metadata": {},
   "outputs": [],
   "source": [
    "import pandas as pd\n",
    "import numpy as np\n",
    "\n",
    "for i in range(A.shape[0]): \n",
    "    for j in range(A.shape[1]):\n",
    "        row_name = A.index[i] \n",
    "        col_name = A.columns[j] \n",
    "        if row_name in B.index and col_name in B.columns:\n",
    "\n",
    "            values_in_B = B.loc[row_name, col_name]\n",
    "            if isinstance(values_in_B, (int, float, np.int64, np.float64)): \n",
    "                print(type(values_in_B))\n",
    "                print(values_in_B)\n",
    "                A.iloc[i, j] = values_in_B\n",
    "            elif isinstance(values_in_B, str):\n",
    "                print(type(values_in_B))\n",
    "                print(values_in_B)\n",
    "                A.iloc[i, j] = values_in_B\n",
    "            elif isinstance(values_in_B, pd.Series):\n",
    "                print(type(values_in_B))\n",
    "                print(values_in_B)\n",
    "                values_in_B = values_in_B.dropna()\n",
    "                print(values_in_B)\n",
    "                if values_in_B.empty:\n",
    "                    A.iloc[i, j] = 5555\n",
    "                else:\n",
    "                    if all(isinstance(v, (int, float, np.int64, np.float64)) and v == values_in_B.iloc[0] for v in values_in_B):\n",
    "                        A.iloc[i, j] = values_in_B.iloc[0] \n",
    "                    elif all(isinstance(v, str) and v == values_in_B.iloc[0] for v in values_in_B):\n",
    "                        A.iloc[i, j] = values_in_B.iloc[0]\n",
    "                    else:\n",
    "                        A.iloc[i, j] = 9999\n",
    "            else:\n",
    "                print(values_in_B)\n",
    "                print(type(values_in_B))\n",
    "                print(f\"多个值找到：行名 = {row_name}, 列名 = {col_name}, B中的值 = {values_in_B}\")\n",
    "                A.iloc[i, j] = 9999\n",
    "\n",
    "# 打印填充后的A_df\n",
    "print(A)\n",
    "\n",
    "# A.to_excel('消极心理病理学/ne_total_整理版_py_3.xlsx', index=True)"
   ]
  },
  {
   "cell_type": "code",
   "execution_count": 12,
   "metadata": {},
   "outputs": [],
   "source": [
    "#保存数据\n",
    "A.to_excel(/消极心理病理学/ne_total_2_整理版_py_1.xlsx', index=True)"
   ]
  }
 ],
 "metadata": {
  "kernelspec": {
   "display_name": "Python 3",
   "language": "python",
   "name": "python3"
  },
  "language_info": {
   "codemirror_mode": {
    "name": "ipython",
    "version": 3
   },
   "file_extension": ".py",
   "mimetype": "text/x-python",
   "name": "python",
   "nbconvert_exporter": "python",
   "pygments_lexer": "ipython3",
   "version": "3.6.5"
  }
 },
 "nbformat": 4,
 "nbformat_minor": 2
}
