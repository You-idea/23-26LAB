{
 "cells": [
  {
   "cell_type": "markdown",
   "metadata": {},
   "source": [
    "求脑袋之间的距离（1-corr）之后求相关"
   ]
  },
  {
   "cell_type": "code",
   "execution_count": null,
   "metadata": {},
   "outputs": [],
   "source": [
    "import os\n",
    "import numpy as np\n",
    "import pandas as pd\n",
    "from scipy.stats import pearsonr\n",
    "import scipy.io as sio\n",
    "\n",
    "main_folder = '24.12.17-IS-RSA'\n",
    "outdatapath = '24.12.17-IS-RSA/'\n",
    "beha_data = sio.loadmat(os.path.join(outdatapath, 'beha_data_py.mat'))\n",
    "beha_data = beha_data.get('beha_data', None)\n",
    "print(beha_data)\n",
    "print(beha_data.shape)\n",
    "sub_folders = [f for f in os.listdir(main_folder) if os.path.isdir(os.path.join(main_folder, f))]"
   ]
  },
  {
   "cell_type": "code",
   "execution_count": null,
   "metadata": {},
   "outputs": [],
   "source": [
    "def calculate_correlation(y):\n",
    "    R = 1 - np.corrcoef(y)\n",
    "    R_1 = np.tril(R)\n",
    "    R_1[np.triu_indices_from(R_1, 0)] = 99999\n",
    "    R_1 = R_1.T\n",
    "    return R_1[R_1 < 2]\n",
    "\n",
    "for sub_folder in sub_folders:\n",
    "    folder_path = os.path.join(main_folder, sub_folder)\n",
    "    files = [f for f in os.listdir(folder_path) if f.endswith('.txt')]\n",
    "    \n",
    "    all_brain_data = []\n",
    "    brain_values_name = []\n",
    "\n",
    "    for file_name in files:\n",
    "        file_path = os.path.join(folder_path, file_name)\n",
    "        raw_data = pd.read_table(file_path, header=None, sep=r'\\s+')\n",
    "        raw_data = raw_data.iloc[3:, :]\n",
    "        if raw_data.shape[1] <= 30:\n",
    "            print(f\"Skipping {file_name} as it has {raw_data.shape[1]} columns.\")\n",
    "            continue\n",
    "        R_2 = calculate_correlation(raw_data.values)\n",
    "\n",
    "        brain_values_name.append([os.path.splitext(file_name)[0]] + R_2.tolist())\n",
    "        all_brain_data.extend(R_2)\n",
    "        print(all_brain_data)\n",
    "        print(sub_folder,file_name)\n",
    "\n",
    "    sio.savemat(os.path.join(outdatapath, f'{sub_folder}_brain_list.mat'), {'brain_list': files})\n",
    "    sio.savemat(os.path.join(outdatapath, f'{sub_folder}_all_brain_data.mat'), {'all_brain_data': all_brain_data})\n",
    "\n",
    "    if beha_data is not None:\n",
    "        r_values, p_values = pearsonr(beha_data.flatten(), all_brain_data)\n",
    "        rsps = np.array([files, r_values, p_values]).T\n",
    "        sio.savemat(os.path.join(outdatapath, f'{sub_folder}_rsps.mat'), {'rsps': rsps})\n",
    "    else:\n",
    "        print(f\"Warning: 'beha_data' not found in GPT.mat for {sub_folder}, skipping RSA calculation.\")"
   ]
  }
 ],
 "metadata": {
  "kernelspec": {
   "display_name": "Python 3",
   "language": "python",
   "name": "python3"
  },
  "language_info": {
   "codemirror_mode": {
    "name": "ipython",
    "version": 3
   },
   "file_extension": ".py",
   "mimetype": "text/x-python",
   "name": "python",
   "nbconvert_exporter": "python",
   "pygments_lexer": "ipython3",
   "version": "3.6.5"
  }
 },
 "nbformat": 4,
 "nbformat_minor": 2
}
