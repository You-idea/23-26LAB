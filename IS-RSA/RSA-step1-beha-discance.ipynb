{
 "cells": [
  {
   "cell_type": "markdown",
   "metadata": {},
   "source": [
    "计算行为上的欧几里得距离"
   ]
  },
  {
   "cell_type": "code",
   "execution_count": null,
   "metadata": {},
   "outputs": [],
   "source": [
    "import pandas as pd\n",
    "import numpy as np\n",
    "\n",
    "filename = '24.12.17-IS-RSA/All_sub_info.xlsx'\n",
    "data = pd.read_excel(filename, usecols=range(10, 17))\n",
    "data_matrix = data.values\n",
    "print(data_matrix.shape)\n",
    "print(data_matrix)"
   ]
  },
  {
   "cell_type": "code",
   "execution_count": null,
   "metadata": {},
   "outputs": [],
   "source": [
    "distances = []\n",
    "for i in range(len(data_matrix)):\n",
    "    for j in range(i + 1, len(data_matrix)):\n",
    "        distance = np.sqrt(np.sum((data_matrix[i, :] - data_matrix[j, :]) ** 2))\n",
    "        distances.append(distance)\n",
    "distances = np.array(distances)\n",
    "print(distances.shape)\n",
    "print(distances)"
   ]
  },
  {
   "cell_type": "code",
   "execution_count": null,
   "metadata": {},
   "outputs": [],
   "source": [
    "beha_data = np.array(distances)\n",
    "print(beha_data.shape)\n",
    "import scipy.io as sio\n",
    "sio.savemat('/beha_data_py_2.mat', {'beha_data': beha_data})"
   ]
  }
 ],
 "metadata": {
  "kernelspec": {
   "display_name": "Python 3",
   "language": "python",
   "name": "python3"
  },
  "language_info": {
   "codemirror_mode": {
    "name": "ipython",
    "version": 3
   },
   "file_extension": ".py",
   "mimetype": "text/x-python",
   "name": "python",
   "nbconvert_exporter": "python",
   "pygments_lexer": "ipython3",
   "version": "3.6.5"
  }
 },
 "nbformat": 4,
 "nbformat_minor": 2
}
