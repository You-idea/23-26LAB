{
 "cells": [
  {
   "cell_type": "markdown",
   "metadata": {},
   "source": [
    "将RSA拉成一列的数据反推成一个矩阵，之后做成图片并保存"
   ]
  },
  {
   "cell_type": "code",
   "execution_count": 16,
   "metadata": {},
   "outputs": [],
   "source": [
    "import os\n",
    "import numpy as np\n",
    "import pandas as pd\n",
    "import matplotlib.pyplot as plt"
   ]
  },
  {
   "cell_type": "code",
   "execution_count": 17,
   "metadata": {},
   "outputs": [],
   "source": [
    "def reconstruct_matrix(A):\n",
    "    A = A[1:]\n",
    "    colnum = len(A)\n",
    "    num = int((1 + np.sqrt(1 + 8 * colnum)) / 2)  # 求解 num*(num-1)/2 = colnum\n",
    "    if num * (num - 1) // 2 != colnum:\n",
    "        raise ValueError(f\"输入向量维度 {colnum} 无法满足 num*(num-1)/2 公式。\")\n",
    "    B = np.zeros((num, num))\n",
    "    rows, cols = np.tril_indices(num, k=-1)\n",
    "    B[rows, cols] = A\n",
    "    B = B + B.T\n",
    "    np.fill_diagonal(B, 0)\n",
    "    return B\n",
    "\n",
    "def import_data_from_csv(file_path):\n",
    "    data = pd.read_csv(file_path, header=None)\n",
    "    return data.values.flatten()\n",
    "\n",
    "def save_matrix_to_csv(matrix, file_path):\n",
    "    np.savetxt(file_path, matrix, delimiter=',', fmt='%.4f')\n",
    "\n",
    "def plot_heatmap(matrix, file_path):\n",
    "    file_name = os.path.splitext(os.path.basename(file_path))[0]\n",
    "    plt.figure(figsize=(8, 6))\n",
    "    plt.imshow(matrix, cmap='coolwarm', interpolation='nearest')\n",
    "    plt.colorbar()\n",
    "    plt.xticks([])\n",
    "    plt.yticks([])\n",
    "    plt.xlabel('')\n",
    "    plt.ylabel('') \n",
    "    plt.title(f'Heatmap of {file_name}')\n",
    "    plt.savefig(file_path, format='png')\n",
    "    plt.close()\n",
    "\n",
    "\n",
    "def main(csv_input_file, output_matrix_file, output_heatmap_file):\n",
    "    A = import_data_from_csv(csv_input_file)\n",
    "    B = reconstruct_matrix(A)\n",
    "    save_matrix_to_csv(B, output_matrix_file)\n",
    "    plot_heatmap(B, output_heatmap_file)"
   ]
  },
  {
   "cell_type": "code",
   "execution_count": 12,
   "metadata": {},
   "outputs": [],
   "source": [
    "#无循环\n",
    "csv_input_file = 'RSA_GPT_MASQ-DS.csv'\n",
    "output_matrix_file = 'output_matrix.csv' \n",
    "output_heatmap_file = 'heatmap_output.png'\n",
    "main(csv_input_file, output_matrix_file, output_heatmap_file)"
   ]
  },
  {
   "cell_type": "code",
   "execution_count": null,
   "metadata": {},
   "outputs": [],
   "source": [
    "#循环文件\n",
    "folder_path = 'E:/personal/Documents/RSA-num/'\n",
    "result_path =  'E:/personal/Documents/result/'\n",
    "for filename in os.listdir(folder_path):\n",
    "        if filename.endswith('.csv'):\n",
    "            csv_input_file = os.path.join(folder_path, filename)\n",
    "            print (csv_input_file)\n",
    "            base_filename = os.path.splitext(filename)[0]\n",
    "            output_matrix_file = os.path.join(result_path, f'{base_filename}_matrix.csv')\n",
    "            output_heatmap_file = os.path.join(result_path, f'{base_filename}_heatmap.png')\n",
    "            main(csv_input_file, output_matrix_file, output_heatmap_file)"
   ]
  }
 ],
 "metadata": {
  "kernelspec": {
   "display_name": "Python 3",
   "language": "python",
   "name": "python3"
  },
  "language_info": {
   "codemirror_mode": {
    "name": "ipython",
    "version": 3
   },
   "file_extension": ".py",
   "mimetype": "text/x-python",
   "name": "python",
   "nbconvert_exporter": "python",
   "pygments_lexer": "ipython3",
   "version": "3.6.5"
  }
 },
 "nbformat": 4,
 "nbformat_minor": 2
}
