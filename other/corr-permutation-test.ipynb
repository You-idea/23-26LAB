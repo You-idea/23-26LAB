{
 "cells": [
  {
   "cell_type": "markdown",
   "metadata": {},
   "source": [
    "置换检验"
   ]
  },
  {
   "cell_type": "code",
   "execution_count": null,
   "metadata": {},
   "outputs": [],
   "source": [
    "import os\n",
    "import numpy as np\n",
    "import pandas as pd\n",
    "from scipy import stats\n",
    "import random\n",
    "\n",
    "folder_path = 'E:/personal/Documents/tmp'\n",
    "outdatapath = 'E:/personal/Documents/T1/sub_info/'\n",
    "excel_file = os.path.join(outdatapath, 'GPT总分.xlsx')\n",
    "behave_df = pd.read_excel(excel_file)\n",
    "behave = behave_df['GPT总分'].values\n",
    "\n",
    "results = []\n",
    "\n",
    "# 置换检验次数\n",
    "n_permutations = 1\n",
    "\n",
    "for subdir, dirs, files in os.walk(folder_path):\n",
    "    for file in files:\n",
    "        if file.endswith('.txt'):\n",
    "            brain_name = os.path.splitext(file)[0]\n",
    "            print(brain_name)\n",
    "\n",
    "            file_path = os.path.join(subdir, file)\n",
    "            brain_data = np.loadtxt(file_path)\n",
    "\n",
    "            print(behave)\n",
    "            print(brain_data)\n",
    "            r, p = stats.pearsonr(behave, brain_data)\n",
    "\n",
    "            r_permutations = []\n",
    "            for _ in range(n_permutations):\n",
    "                behave_copy = behave.copy()\n",
    "                random.shuffle(behave_copy)\n",
    "                r_permutations.append(stats.pearsonr(behave, brain_data)[0])\n",
    "\n",
    "            r_permutations = np.array(r_permutations)\n",
    "            p_permutation = np.mean(np.abs(r_permutations) >= np.abs(r))\n",
    "\n",
    "            ci_lower = np.percentile(r_permutations, 2.5)\n",
    "            ci_upper = np.percentile(r_permutations, 97.5)\n",
    "\n",
    "            results.append({\n",
    "                'brain_name': brain_name,\n",
    "                'r_value': r,\n",
    "                'p_value': p,\n",
    "                'r_permutations': r_permutations,\n",
    "                'p_permutation': p_permutation,\n",
    "                'permutation_ci_lower': ci_lower,\n",
    "                'permutation_ci_upper': ci_upper\n",
    "            })\n",
    "\n",
    "results_df = pd.DataFrame(results)\n",
    "print(results_df)"
   ]
  },
  {
   "cell_type": "code",
   "execution_count": null,
   "metadata": {},
   "outputs": [],
   "source": []
  }
 ],
 "metadata": {
  "kernelspec": {
   "display_name": "Python 3",
   "language": "python",
   "name": "python3"
  },
  "language_info": {
   "codemirror_mode": {
    "name": "ipython",
    "version": 3
   },
   "file_extension": ".py",
   "mimetype": "text/x-python",
   "name": "python",
   "nbconvert_exporter": "python",
   "pygments_lexer": "ipython3",
   "version": "3.6.5"
  }
 },
 "nbformat": 4,
 "nbformat_minor": 2
}
