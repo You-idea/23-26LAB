{
 "cells": [
  {
   "cell_type": "markdown",
   "metadata": {},
   "source": [
    "好像是之前写相关和中介的代码的简单版，没有那么多的for循环"
   ]
  },
  {
   "cell_type": "code",
   "execution_count": 20,
   "metadata": {},
   "outputs": [],
   "source": [
    "import os\n",
    "import numpy as np\n",
    "import pandas as pd\n",
    "pd.set_option('display.max_rows', None)\n",
    "pd.set_option('display.max_columns', None)\n",
    "pd.set_option('display.width', None)\n",
    "pd.set_option('display.max_colwidth', -1)"
   ]
  },
  {
   "cell_type": "code",
   "execution_count": 3,
   "metadata": {},
   "outputs": [],
   "source": [
    "def calculate_correlation(y):\n",
    "    R = 1 - np.corrcoef(y)\n",
    "    R_1 = np.tril(R)\n",
    "    R_1[np.triu_indices_from(R_1, 0)] = 99999\n",
    "    return R_1[R_1 < 2"
   ]
  },
  {
   "cell_type": "code",
   "execution_count": 4,
   "metadata": {},
   "outputs": [],
   "source": [
    "def calculate_correlation_1(y):\n",
    "    R = 1 - np.corrcoef(y) \n",
    "    R_1 = np.tril(R) \n",
    "    R_1[np.triu_indices_from(R_1, 0)] = 99999\n",
    "    R_1 = R_1.T\n",
    "    return R_1[R_1 < 2] "
   ]
  },
  {
   "cell_type": "code",
   "execution_count": null,
   "metadata": {},
   "outputs": [],
   "source": [
    "beha_path = 'E:/col_cluster_mask_zstat1_2.csv'\n",
    "cleaned_brain = pd.read_csv(beha_path)\n",
    "print(cleaned_brain.shape)\n",
    "A = calculate_correlation(cleaned_brain)\n",
    "print(A)\n",
    "print(A.shape)\n",
    "A_1 = calculate_correlation_1(cleaned_brain)\n",
    "print(A_1)\n",
    "print(A_1.shape)"
   ]
  },
  {
   "cell_type": "code",
   "execution_count": null,
   "metadata": {},
   "outputs": [],
   "source": [
    "import pandas as pd\n",
    "\n",
    "beha_path = 'E:/4.xlsx'\n",
    "data = pd.read_excel(beha_path, header=0, index_col=None)\n",
    "print(data.shape)\n",
    "cleaned_GPT = data['cleaned_GPT']\n",
    "cleaned_brain = data['cleaned_brain']\n",
    "cleaned_behave = data['cleaned_behave']\n",
    "print(cleaned_GPT.shape)\n",
    "print(cleaned_brain.shape)\n",
    "print(cleaned_behave.shape)"
   ]
  },
  {
   "cell_type": "code",
   "execution_count": null,
   "metadata": {},
   "outputs": [],
   "source": [
    "import pandas as pd\n",
    "import numpy as np\n",
    "import statsmodels.api as sm\n",
    "from scipy.stats import pearsonr\n",
    "from statsmodels.stats.mediation import Mediation\n",
    "\n",
    "x = cleaned_GPT.astype(float)\n",
    "X = sm.add_constant(x)\n",
    "Y = cleaned_brain.astype(float)\n",
    "print(X.shape)\n",
    "mediation_model_1 = sm.OLS(Y, X).fit()\n",
    "Z = cleaned_behave.astype(float)\n",
    "mediation_model_2 = sm.OLS(Z, X).fit()\n",
    "X = pd.DataFrame(X)\n",
    "Y = pd.DataFrame(Y)\n",
    "Z = pd.DataFrame(Z)\n",
    "mediation_model_3 = sm.OLS(Z, sm.add_constant(pd.concat([X.iloc[:, 1:], Y], axis=1))).fit()\n",
    "indirect_effect = mediation_model_1.params[1] * mediation_model_3.params[2]\n",
    "total_effect = mediation_model_2.params[1] + indirect_effect "
   ]
  },
  {
   "cell_type": "code",
   "execution_count": null,
   "metadata": {},
   "outputs": [],
   "source": [
    "print(mediation_model_1.params[1])\n",
    "print(mediation_model_1.pvalues[1])\n",
    "print(mediation_model_2.params[1])\n",
    "print(mediation_model_2.pvalues[1])\n",
    "print(mediation_model_3.params[1])\n",
    "print(mediation_model_3.pvalues[1])\n",
    "print(mediation_model_3.params[2])\n",
    "print(mediation_model_3.pvalues[2])"
   ]
  }
 ],
 "metadata": {
  "kernelspec": {
   "display_name": "Python 3",
   "language": "python",
   "name": "python3"
  },
  "language_info": {
   "codemirror_mode": {
    "name": "ipython",
    "version": 3
   },
   "file_extension": ".py",
   "mimetype": "text/x-python",
   "name": "python",
   "nbconvert_exporter": "python",
   "pygments_lexer": "ipython3",
   "version": "3.6.5"
  }
 },
 "nbformat": 4,
 "nbformat_minor": 2
}
